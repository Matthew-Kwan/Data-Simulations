{
 "cells": [
  {
   "cell_type": "markdown",
   "metadata": {},
   "source": [
    "## Create 100,000 replications of total assets"
   ]
  },
  {
   "cell_type": "code",
   "execution_count": 17,
   "metadata": {},
   "outputs": [
    {
     "name": "stdout",
     "output_type": "stream",
     "text": [
      "CI for Probability of Losing Money = [ 0.40339569068 , 0.40948430932 ]\n"
     ]
    }
   ],
   "source": [
    "import numpy as np\n",
    "import scipy.stats as ss\n",
    "\n",
    "#UNIFORM DISTRIBUTIONS\n",
    "\n",
    "\n",
    "\n",
    "list = [] # Will store our X values, 0 or 1\n",
    "N = 100000 #Number of replications\n",
    "\n",
    "for i in range(0,N):\n",
    "    U1 = np.random.random()*0.04 + 0.04 #U~[0.04,0.08]\n",
    "    U2 = np.random.random()*0.4 - 0.2 #U~[-0.2,0.2]\n",
    "    U3 = np.random.random()*0.02 + 0.03 #U~[0.03,0.05]\n",
    "    \n",
    "    assets = (U1*5000 + U2*10000 + U3*2000) + 17000  \n",
    "    if assets < 17000:\n",
    "        list.append(1)\n",
    "    else:\n",
    "        list.append(0)\n",
    "\n",
    "X_bar = np.mean(list)\n",
    "X_samplevar = (np.std(list)**2)*(N/(N-1)) #Multiplited by (N/N-1) because we need to account for degrees of freedom\n",
    "X_sd = np.sqrt(X_samplevar)\n",
    "\n",
    "X_hw = 1.96 * X_sd/np.sqrt(N) #1.96 is the Z-score for a 95% CI\n",
    "\n",
    "print(\"CI for Probability of Losing Money = [\",X_bar-X_hw,\",\",X_bar+X_hw,\"]\")\n",
    "        \n",
    "\n"
   ]
  },
  {
   "cell_type": "code",
   "execution_count": null,
   "metadata": {
    "collapsed": true
   },
   "outputs": [],
   "source": []
  },
  {
   "cell_type": "code",
   "execution_count": null,
   "metadata": {
    "collapsed": true
   },
   "outputs": [],
   "source": []
  }
 ],
 "metadata": {
  "kernelspec": {
   "display_name": "Python 3",
   "language": "python",
   "name": "python3"
  },
  "language_info": {
   "codemirror_mode": {
    "name": "ipython",
    "version": 3
   },
   "file_extension": ".py",
   "mimetype": "text/x-python",
   "name": "python",
   "nbconvert_exporter": "python",
   "pygments_lexer": "ipython3",
   "version": "3.6.3"
  }
 },
 "nbformat": 4,
 "nbformat_minor": 2
}
