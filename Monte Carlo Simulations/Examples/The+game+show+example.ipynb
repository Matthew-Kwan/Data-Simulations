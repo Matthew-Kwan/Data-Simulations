{
 "cells": [
  {
   "cell_type": "markdown",
   "metadata": {},
   "source": [
    "### Simulate one instance of the game"
   ]
  },
  {
   "cell_type": "code",
   "execution_count": 98,
   "metadata": {},
   "outputs": [
    {
     "name": "stdout",
     "output_type": "stream",
     "text": [
      "17.0 2739.948126898328 46579.1181573 1\n"
     ]
    }
   ],
   "source": [
    "import numpy as np\n",
    "\n",
    "# Generate the bonus\n",
    "U1 = np.random.random()\n",
    "B = np.ceil(20*U1)\n",
    "\n",
    "# generate the prize\n",
    "U2 = np.random.random()\n",
    "P = 1000 + 2000 * U2\n",
    "\n",
    "# compute the winnings\n",
    "W = P*B\n",
    "\n",
    "# Is the prize greater than 20K?\n",
    "if W >= 2000:\n",
    "    X = 1\n",
    "else:\n",
    "    X = 0\n",
    "\n",
    "print (B,P,W,X)"
   ]
  },
  {
   "cell_type": "markdown",
   "metadata": {},
   "source": [
    "### Run N replications and estimate the expected winnings and probability of winnings > 20K"
   ]
  },
  {
   "cell_type": "code",
   "execution_count": 99,
   "metadata": {},
   "outputs": [
    {
     "name": "stdout",
     "output_type": "stream",
     "text": [
      "Estimated Expected Winnings: 20941.5251959\n",
      "Estimated Probability of Winnings >20K: 0.47366\n"
     ]
    }
   ],
   "source": [
    "N = 100000\n",
    "W_list = []\n",
    "X_list = []\n",
    "\n",
    "for i in range(0,N):\n",
    "    U1 = np.random.random()\n",
    "    B = np.ceil(20*U1)\n",
    "\n",
    "    # generate the prize\n",
    "    U2 = np.random.random()\n",
    "    P = 1000 + 2000 * U2\n",
    "\n",
    "    # compute the winnings\n",
    "    W = P*B\n",
    "\n",
    "    # Is the prize greater than 20K?\n",
    "    if W >= 20000:\n",
    "        X = 1\n",
    "    else:\n",
    "        X = 0\n",
    "    \n",
    "    W_list.append(W)\n",
    "    X_list.append(X)\n",
    "\n",
    "Wbar = np.mean(W_list)\n",
    "Xbar = np.mean(X_list)\n",
    "print ('Estimated Expected Winnings:', Wbar)\n",
    "print ('Estimated Probability of Winnings >20K:', Xbar)"
   ]
  },
  {
   "cell_type": "markdown",
   "metadata": {},
   "source": [
    "### Compute a 95% Confidence Interval for the estimates"
   ]
  },
  {
   "cell_type": "code",
   "execution_count": 100,
   "metadata": {},
   "outputs": [
    {
     "name": "stdout",
     "output_type": "stream",
     "text": [
      "95% CI for Expected Winnings: [20858.321140966917, 21024.729250887482]\n"
     ]
    }
   ],
   "source": [
    "## Generate a 95% confidence interval for the estimates\n",
    "W_sample_variance = (np.std(W_list)**2)*(N/(N-1))\n",
    "W_sd = np.sqrt(W_sample_variance)\n",
    "\n",
    "W_halfwidth = 1.96* W_sd/np.sqrt(N)\n",
    "\n",
    "print ('95% CI for Expected Winnings:',[Wbar-W_halfwidth,Wbar+W_halfwidth])"
   ]
  },
  {
   "cell_type": "code",
   "execution_count": 101,
   "metadata": {},
   "outputs": [
    {
     "name": "stdout",
     "output_type": "stream",
     "text": [
      "CI for Probability of Winnings >20K: [0.47056525559655416, 0.4767547444034459]\n"
     ]
    }
   ],
   "source": [
    "X_sample_variance = (np.std(X_list)**2)*(N/(N-1))\n",
    "X_sd = np.sqrt(X_sample_variance)\n",
    "\n",
    "X_halfwidth = 1.96 * X_sd/np.sqrt(N)\n",
    "\n",
    "print ('CI for Probability of Winnings >20K:', [Xbar-X_halfwidth,Xbar+X_halfwidth])"
   ]
  },
  {
   "cell_type": "markdown",
   "metadata": {},
   "source": [
    "### Compute a 95% CI with given percision"
   ]
  },
  {
   "cell_type": "markdown",
   "metadata": {},
   "source": [
    "Assume that we want a confidence interval for $P(W>=20000)$ with half-width equal to 0.005. We first run 50 trial runs to estimate the standard deviation."
   ]
  },
  {
   "cell_type": "code",
   "execution_count": 117,
   "metadata": {},
   "outputs": [
    {
     "name": "stdout",
     "output_type": "stream",
     "text": [
      "0.504672049504\n"
     ]
    }
   ],
   "source": [
    "N = 50\n",
    "X_trials = []\n",
    "\n",
    "for i in range(0,N):\n",
    "    U1 = np.random.random()\n",
    "    B = np.ceil(20*U1)\n",
    "\n",
    "    # generate the prize\n",
    "    U2 = np.random.random()\n",
    "    P = 1000 + 2000*U2\n",
    "\n",
    "    # compute the winnings\n",
    "    W = P*B\n",
    "\n",
    "    # Is the prize greater than 20K?\n",
    "    if W >= 20000:\n",
    "        X = 1\n",
    "    else:\n",
    "        X = 0\n",
    "        \n",
    "    X_trials.append(X)\n",
    "\n",
    "# Estimate the standard deviaition\n",
    "X_sample_variance_trials = (np.std(X_trials)**2)*(N/(N-1))\n",
    "X_sd_trials = np.sqrt(X_sample_variance_trials)\n",
    "\n",
    "print (X_sd_trials)"
   ]
  },
  {
   "cell_type": "markdown",
   "metadata": {},
   "source": [
    "Given the estimate $\\tilde{s}_{k}$ we can compute the sample size using the formula on slide 18."
   ]
  },
  {
   "cell_type": "code",
   "execution_count": 120,
   "metadata": {},
   "outputs": [
    {
     "name": "stdout",
     "output_type": "stream",
     "text": [
      "35186.0\n"
     ]
    }
   ],
   "source": [
    "sample_size = np.ceil(((1.96*(X_sd_trial/0.005)))**2)\n",
    "print (sample_size)"
   ]
  },
  {
   "cell_type": "markdown",
   "metadata": {},
   "source": [
    "Next we run the simulation with the above sample size and calculate our confidence interval. [Note: The int( ) function below converts 'sample_size' to an integer]."
   ]
  },
  {
   "cell_type": "code",
   "execution_count": 123,
   "metadata": {},
   "outputs": [
    {
     "name": "stdout",
     "output_type": "stream",
     "text": [
      "Half-width of the CI is: 0.00521772043959\n",
      "CI for Probability of Winnings >20K: [0.46926076532179395, 0.47969620620097075]\n"
     ]
    }
   ],
   "source": [
    "N = int(sample_size)\n",
    "X_list = []\n",
    "\n",
    "for i in range(0,N):\n",
    "    U1 = np.random.random()\n",
    "    B = np.ceil(20*U1)\n",
    "\n",
    "    # generate the prize\n",
    "    U2 = np.random.random()\n",
    "    P = 1000 + 2000 * U2\n",
    "\n",
    "    # compute the winnings\n",
    "    W = P*B\n",
    "\n",
    "    # Is the prize greater than 20K?\n",
    "    if W >= 20000:\n",
    "        X = 1\n",
    "    else:\n",
    "        X = 0\n",
    "        \n",
    "    X_list.append(X)\n",
    "\n",
    "Xbar = np.mean(X_list)\n",
    "X_sample_variance = (np.std(X_list)**2)*(N/(N-1))\n",
    "X_sd = np.sqrt(X_sample_variance)\n",
    "\n",
    "X_halfwidth = 1.96 * X_sd/np.sqrt(N)\n",
    "\n",
    "print ('Half-width of the CI is:', X_halfwidth)\n",
    "print ('CI for Probability of Winnings >20K:', [Xbar-X_halfwidth,Xbar+X_halfwidth])"
   ]
  },
  {
   "cell_type": "markdown",
   "metadata": {},
   "source": [
    "Which is slightly larger than what we wanted, but still not too bad!"
   ]
  }
 ],
 "metadata": {
  "kernelspec": {
   "display_name": "Python 3",
   "language": "python",
   "name": "python3"
  },
  "language_info": {
   "codemirror_mode": {
    "name": "ipython",
    "version": 3
   },
   "file_extension": ".py",
   "mimetype": "text/x-python",
   "name": "python",
   "nbconvert_exporter": "python",
   "pygments_lexer": "ipython3",
   "version": "3.6.3"
  }
 },
 "nbformat": 4,
 "nbformat_minor": 2
}
