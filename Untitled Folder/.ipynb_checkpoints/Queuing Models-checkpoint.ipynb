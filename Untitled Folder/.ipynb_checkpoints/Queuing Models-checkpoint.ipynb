{
 "cells": [
  {
   "cell_type": "code",
   "execution_count": 38,
   "metadata": {},
   "outputs": [
    {
     "name": "stdout",
     "output_type": "stream",
     "text": [
      "Average steady-state wait time of the fifth customer is:  0.8555493324838679\n",
      "The 95% CI for the above measure is: [0.6664245708241714, 0.8555493324838679, 1.0446740941435644]\n"
     ]
    }
   ],
   "source": [
    "import numpy as np\n",
    "\n",
    "N = 100 #customers per rep\n",
    "R = 400 #reps\n",
    "lam = 1\n",
    "mu = 5/4\n",
    "wait_time_5 = []\n",
    "d=3 #3 servers in the beginning\n",
    "\n",
    "for rep in range(0,R):\n",
    "    Y_previous = 0\n",
    "    for c in range(4,N+1):\n",
    "        A = np.random.exponential(1/lam)\n",
    "        X = np.random.exponential(1/(3*mu)) + np.random.exponential(1/(3*mu))+np.random.exponential(1/(3*mu))\n",
    "        Y = max(0,Y_previous-A+X)\n",
    "        Y_previous = Y\n",
    "        \n",
    "        if c == 5:\n",
    "            wait_time_5.append(Y)\n",
    "\n",
    "Avg_wait = np.mean(wait_time_5)\n",
    "Avg_wait_var = (np.std(wait_time_5)**2)*(N/(N-1))\n",
    "Avg_wait_sd = np.sqrt(Avg_wait_var)\n",
    "Avg_wait_hw = 1.96 * Avg_wait_sd/np.sqrt(N)\n",
    "\n",
    "print(\"Average steady-state wait time of the fifth customer is: \", Avg_wait)\n",
    "print(\"The 95% CI for the above measure is:\", [Avg_wait-Avg_wait_hw, Avg_wait,Avg_wait + Avg_wait_hw ])\n",
    "            "
   ]
  },
  {
   "cell_type": "code",
   "execution_count": null,
   "metadata": {},
   "outputs": [],
   "source": []
  },
  {
   "cell_type": "code",
   "execution_count": null,
   "metadata": {},
   "outputs": [],
   "source": []
  },
  {
   "cell_type": "code",
   "execution_count": null,
   "metadata": {},
   "outputs": [],
   "source": []
  }
 ],
 "metadata": {
  "kernelspec": {
   "display_name": "Python 3",
   "language": "python",
   "name": "python3"
  }
 },
 "nbformat": 4,
 "nbformat_minor": 2
}
