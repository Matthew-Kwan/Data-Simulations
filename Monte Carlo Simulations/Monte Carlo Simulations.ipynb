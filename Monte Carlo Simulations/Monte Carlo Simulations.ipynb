{
 "cells": [
  {
   "cell_type": "markdown",
   "metadata": {},
   "source": [
    "## 1 b)"
   ]
  },
  {
   "cell_type": "code",
   "execution_count": 37,
   "metadata": {},
   "outputs": [
    {
     "name": "stdout",
     "output_type": "stream",
     "text": [
      "Sample Standard Deviation = 0.49083246303098943\n",
      "Half-Width = 0.0030422111241475065\n",
      "CI for Probability of Losing Money = [ 0.4016377888758525 <= 0.40468 <= 0.40772221112414747 ]\n"
     ]
    }
   ],
   "source": [
    "import numpy as np\n",
    "import scipy.stats as ss\n",
    "\n",
    "\n",
    "list = [] # Will store our X values, 0 or 1\n",
    "N = 100000 #Number of replications\n",
    "\n",
    "for i in range(0,N):\n",
    "    U1 = np.random.random()*0.04 + 0.04 #U~[0.04,0.08]\n",
    "    U2 = np.random.random()*0.4 - 0.2 #U~[-0.2,0.2]\n",
    "    U3 = np.random.random()*0.02 + 0.03 #U~[0.03,0.05]\n",
    "    \n",
    "    assets = (U1*5000 + U2*10000 + U3*2000) + 17000  \n",
    "    if assets < 17000:\n",
    "        list.append(1)\n",
    "    else:\n",
    "        list.append(0)\n",
    "\n",
    "X_bar = np.mean(list)\n",
    "X_samplevar = (np.std(list)**2)*(N/(N-1)) #Multiplited by (N/N-1) because we need to account for degrees of freedom\n",
    "X_sd = np.sqrt(X_samplevar)\n",
    "print(\"Sample Standard Deviation =\",X_sd)\n",
    "X_hw = 1.96 * X_sd/np.sqrt(N) #1.96 is the Z-score for a 95% CI\n",
    "print(\"Half-Width =\", X_hw)\n",
    "\n",
    "print(\"CI for Probability of Losing Money = [\",X_bar-X_hw,\"<=\", X_bar, \"<=\",X_bar+X_hw,\"]\")\n",
    "        \n",
    "\n"
   ]
  },
  {
   "cell_type": "markdown",
   "metadata": {
    "collapsed": true
   },
   "source": [
    "## 3 a)"
   ]
  },
  {
   "cell_type": "code",
   "execution_count": 89,
   "metadata": {},
   "outputs": [
    {
     "name": "stdout",
     "output_type": "stream",
     "text": [
      "Sample Standard Deviation = 1.1347862661906725\n",
      "Half-Width = 0.049734200930256094\n",
      "CI for expected number of OK clamps = [ 3.098265799069744 <= 3.148 <= 3.197734200930256 ]\n"
     ]
    }
   ],
   "source": [
    "import numpy as np\n",
    "import scipy.stats as ss\n",
    "\n",
    "#Need to test the expected number of OK clamps in a batch of 5\n",
    "\n",
    "batches = [] \n",
    "N = 2000 #Number of replications\n",
    "K = 5 #Number of clamps per batch\n",
    "d=3\n",
    "\n",
    "for i in range(d,N):\n",
    "    batch = 0 \n",
    "    P = np.random.random()*0.25 + 0.5 #U ~ [0.5,0.75] | prob. for OK clamp\n",
    "    for i in range(0,K):\n",
    "        U = np.random.random()\n",
    "        if U <= P:\n",
    "            batch+=1 #OK Clamp\n",
    "        else:\n",
    "            continue #Fail Clamp\n",
    "    batches.append(batch) #append # of OK clamps in this batch\n",
    "\n",
    "\n",
    "X_bar = np.mean(batches)\n",
    "X_samplevar = (np.std(batches)**2)*(N/(N-1)) \n",
    "X_sd = np.sqrt(X_samplevar)\n",
    "\n",
    "print(\"Sample Standard Deviation =\",X_sd)\n",
    "\n",
    "X_hw = 1.96 * X_sd/np.sqrt(N)\n",
    "\n",
    "print(\"Half-Width =\", X_hw) # N = 2000 gives us an accuracy of approximately one decimal place\n",
    "\n",
    "#ACCURACY, I used the below code to get an estimate of how many replications are needed, started with initial N = 30\n",
    "#N = (1.96*(X_samplevar/0.05))**2\n",
    "#print(N)\n",
    "\n",
    "print(\"CI for expected number of OK clamps = [\",X_bar-X_hw,\"<=\", X_bar, \"<=\",X_bar+X_hw,\"]\")\n",
    "        \n",
    "    \n",
    "    \n",
    "        \n",
    "        \n",
    "    \n",
    "\n"
   ]
  },
  {
   "cell_type": "markdown",
   "metadata": {},
   "source": [
    "## 3 b)"
   ]
  },
  {
   "cell_type": "code",
   "execution_count": 75,
   "metadata": {},
   "outputs": [
    {
     "name": "stdout",
     "output_type": "stream",
     "text": [
      "N = 600  Number of replications needed to get half-width to 10% of true value\n",
      "q = 0.3917, True value of q found through simulations with M replications\n",
      "Sample Standard Deviation = 0.4909758830653585\n",
      "Half-Width = 0.03928625272440195 (Should be approximately 0.0392 [read commenets]\n",
      "CI for expected number of OK clamps = [ 0.3640470806089314 <= 0.4033333333333333 <= 0.44261958605773527 ]\n"
     ]
    }
   ],
   "source": [
    "import numpy as np\n",
    "import scipy.stats as ss\n",
    "\n",
    "#Need to test the number of successful batches (4 or more OK)\n",
    "\n",
    "batches= [] \n",
    "N = 600 #Number of replications\n",
    "print(\"N =\",N,\" Number of replications needed to get half-width to 10% of true value\")\n",
    "K = 5 #Number of clamps per batch\n",
    "\n",
    "#Note on Accuracy, I ran the test with 1000000, and found that q ~ 0.3916 for its true value.\n",
    "print(\"q = 0.3917, True value of q found through simulations with M replications\") \n",
    "\n",
    "for i in range(0,N):\n",
    "    batch = []\n",
    "    P = np.random.random()*0.25 + 0.5 #U ~ [0.5,0.75] | prob. for OK clamp\n",
    "    ok = 0 #successful clamps\n",
    "    for i in range(0,K):\n",
    "        U = np.random.random()\n",
    "        if U <= P:\n",
    "            ok+=1 #OK Clamp\n",
    "        else:\n",
    "            continue #Fail Clamp, continue loop\n",
    "            \n",
    "    if ok>=4: #If there were at least 4 OK clamps, add 1 to batches\n",
    "        batches.append(1)\n",
    "    else:  #Otherwise, add 0\n",
    "        batches.append(0)\n",
    "        \n",
    "X_bar = np.mean(batches)\n",
    "X_samplevar = (np.std(batches)**2)*(N/(N-1)) \n",
    "X_sd = np.sqrt(X_samplevar)\n",
    "\n",
    "print(\"Sample Standard Deviation =\",X_sd)\n",
    "\n",
    "\n",
    "X_hw = 1.96 * X_sd/np.sqrt(N)\n",
    "\n",
    "print(\"Half-Width =\", X_hw, \"(Should be approximately 0.0392 [read commenets]\") \n",
    "\n",
    "\n",
    "# Half-Width should be approximately 0.03916 ~ 0.0392 (10% of true value)\n",
    "\n",
    "#ACCURACY, I used the below code to get an estimate of how many replications are needed, started with initial N = 30\n",
    "#N = (1.96*(X_samplevar/0.0392))**2\n",
    "#print(N)\n",
    "\n",
    "print(\"CI for expected number of OK clamps = [\",X_bar-X_hw,\"<=\", X_bar, \"<=\",X_bar+X_hw,\"]\")\n",
    "        \n",
    "    \n",
    "    \n",
    "        \n",
    "        "
   ]
  },
  {
   "cell_type": "code",
   "execution_count": null,
   "metadata": {},
   "outputs": [],
   "source": []
  }
 ],
 "metadata": {
  "kernelspec": {
   "display_name": "Python 3",
   "language": "python",
   "name": "python3"
  },
  "language_info": {
   "codemirror_mode": {
    "name": "ipython",
    "version": 3
   },
   "file_extension": ".py",
   "mimetype": "text/x-python",
   "name": "python",
   "nbconvert_exporter": "python",
   "pygments_lexer": "ipython3",
   "version": "3.6.5"
  }
 },
 "nbformat": 4,
 "nbformat_minor": 2
}
